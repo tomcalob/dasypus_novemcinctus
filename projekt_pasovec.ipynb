{
 "cells": [
  {
   "cell_type": "markdown",
   "metadata": {},
   "source": [
    "# Pásovec devítipásý - *Dasypus novemcinctus*\n",
    "## Brenda Tomčalová"
   ]
  },
  {
   "cell_type": "markdown",
   "metadata": {},
   "source": [
    "<img src=\"http://img.abicko.cz/img/5/full/991833_pasovec.jpg\" width=50% alt=\"Pásovec • shutterstock.com\" >"
   ]
  },
  {
   "cell_type": "markdown",
   "metadata": {},
   "source": [
    "### Krátce o pásovci ###\n",
    "\n",
    "Citováno z: http://www.biolib.cz/cz/taxon/id31923/, Založeno: 20.09.2004 22:10:25 - Uživatel Ondřej Zicha\n",
    "\n",
    "**říše** Animalia - živočichové »  **kmen** Chordata - strunatci »  **třída** Mammalia - savci »  **řád** Xenarthra - chudozubí »  **čeleď** Dasypodidae - pásovcovití »  **rod** Dasypus - pásovec\n",
    "\n",
    "**Velikost**: Délka těla je od 40 do 55 cm, ocas 30 až 45 cm. Hmotnost okolo 5 kilogramů.\n",
    "\n",
    "**Ekologie:** Žije na různých lokalitách od nížin až po vysoké hory. Nejčastěji se vyskytuje na savanách a polopouštích. Pronikl na severu až do jižních států USA a šíří se dále. Krunýř je na hřbetě rozdělený nejčastěji do devíti pásů. Přes den se ukrývá v norách. V noci za pomoci čichu vyhledává hmyz a jeho larvy, červy, ptačí vejce, drobné obratlovce i plody a jiné části rostlin. Také u tohoto druhu se vyskytuje polyembryonie. Páří se v létě, zárodek pak zastavuje svůj vývoj (utajená březost) až do listopadu. Na jaře pak rodí 4 až 12 identických mláďat stejného pohlaví.\n",
    "\n",
    "**Rozšíření:** Od jihu USA až po severní Argentinu a na Trinidadu, Grenadě a Tobagu (podrobněji na: http://www.iucnredlist.org/details/6290/0)\n",
    "\n",
    "### Zajímavosti: ###\n",
    "\n",
    "Čerpáno z: http://www.nwf.org/wildlife/wildlife-library/mammals/nine-banded-armadillo.aspx, 1996-2016 National Wildlife Federation\n",
    "\n",
    "Existuje zhruba 20 druhů pásovců, přičemž pouze dva druhy se dokáží stočit do obranného klubíčka podobného Hvězdě smrti ze Star Wars (viz obrázek, kde je pásovec kulovitý). Pásovec devítipásý se bohužel stočit neumí.\n",
    "\n",
    "Obrázek pásovce kulovitého:\n",
    "<img src=\"http://www.nature-photogallery.eu/cz/__userdata/photos/2334.jpg\" width=30% alt=\"http://www.nature-photogallery.eu/cz/foto/2334-pasovec-kulovity/?puvod=27\" >\n",
    "\n",
    "Pásovec devítipásý má ale parádní obrnění, které jim pomáhá přežít útok predátorů jako jsou pumy, baribalů a aligátorů. Dožívá se v přírodě 7 - 20 let a byl dokonce zaznamenán případ, že se dožil 23. \n",
    "\n",
    "Když je pásovec vyděšený, skočí vysoko do vzduchu (až 1 m). \n",
    "\n",
    "Pásovec byl dříve jezen chudými lidmi, ale dnes je často chován jako domácí mazlíček a používá se také jako laboratorní zvíře při výzkumu lepry (více v review: Indian J Lepr. 1991 Jul-Dec;63(3-4):356-61.) \n",
    "Další zajímavostí je údajná odražená kulka od krunýře pásovce http://zpravy.idnes.cz/pasovec-texas-strelba-odrazena-kulka-dsv-/zahranicni.aspx?c=A150801_173040_zahranicni_aba, ale to nevím, jestli není hoax."
   ]
  },
  {
   "cell_type": "markdown",
   "metadata": {},
   "source": [
    "Načtení potřebných modulů a knihoven a úprava vstupních dat podle Filipa Sedláka."
   ]
  },
  {
   "cell_type": "code",
   "execution_count": 1,
   "metadata": {
    "collapsed": false
   },
   "outputs": [],
   "source": [
    "import pandas as pd\n",
    "import numpy as np\n",
    "import matplotlib.pyplot as plt \n",
    "import matplotlib.mlab as mlab\n",
    "import pylab as pl\n",
    "import re"
   ]
  },
  {
   "cell_type": "code",
   "execution_count": 2,
   "metadata": {
    "collapsed": false
   },
   "outputs": [],
   "source": [
    "genes=pd.read_table('/home/brenda/skola/du/pasovec_gene.gtf', header=None, dtype={0:np.object})\n",
    "genes.columns = [\"seqname\", \"source\", \"feature\", \"start\", \"end\", \"score\", \"strand\", \"frame\", \"attribute\"]"
   ]
  },
  {
   "cell_type": "code",
   "execution_count": 3,
   "metadata": {
    "collapsed": false
   },
   "outputs": [],
   "source": [
    "transcripts=pd.read_table('/home/brenda/skola/du/pasovec_transcript.gtf', header=None, dtype={0:np.object})\n",
    "transcripts.columns = [\"seqname\", \"source\", \"feature\", \"start\", \"end\", \"score\", \"strand\", \"frame\", \"attribute\"]"
   ]
  },
  {
   "cell_type": "code",
   "execution_count": 4,
   "metadata": {
    "collapsed": true
   },
   "outputs": [],
   "source": [
    "def parse_attributes(attributes_str):\n",
    "    \"\"\"Načte obsah sloupce attribute jako `dict`.\n",
    "    \n",
    "    - Pozor, neporadí si se středníky v hodnotách a očekává uvozovky\n",
    "      kolem každé hodnoty.\n",
    "      \n",
    "      \n",
    "    Parametry:\n",
    "    \n",
    "    `attributes_str` - hodnota GTF sloupce attribute jako string\n",
    "    \"\"\"\n",
    "    ONLY_ATTRIBUTES = set([\"gene_id\", \n",
    "                          \"transcript_id\",\n",
    "                          \"gene_name\",\n",
    "                          \"gene_biotype\",\n",
    "                          \"transcript_name\",\n",
    "                          \"transcript_biotype\"])\n",
    "    \n",
    "    out = {}\n",
    "    \n",
    "    for pair in attributes_str.split(\";\"):\n",
    "        if pair.strip() == \"\":\n",
    "            continue\n",
    "        m = re.match(r\"^\\s*(.+) \\\"(.+)\\\"$\", pair)\n",
    "        \n",
    "        if m.group(1) in ONLY_ATTRIBUTES:\n",
    "            out[m.group(1)] = m.group(2)\n",
    "\n",
    "    return out"
   ]
  },
  {
   "cell_type": "code",
   "execution_count": 5,
   "metadata": {
    "collapsed": true
   },
   "outputs": [],
   "source": [
    "def split_attribute_column(df):\n",
    "    \"\"\"Rozdělí sloupec `attribute` data frame GTF souboru do vlastních\n",
    "    sloupců.\n",
    "    \"\"\"\n",
    "    attributes_columns = df.attribute.apply(parse_attributes).apply(pd.Series)\n",
    "    return pd.concat([df.drop([\"attribute\"], axis=1),\n",
    "                      attributes_columns],\n",
    "                     axis=1)\n",
    "\n",
    "genes = split_attribute_column(genes)\n",
    "transcripts = split_attribute_column(transcripts)"
   ]
  },
  {
   "cell_type": "markdown",
   "metadata": {},
   "source": [
    "**Jsou data z jednoho zdroje?**"
   ]
  },
  {
   "cell_type": "code",
   "execution_count": 7,
   "metadata": {
    "collapsed": false
   },
   "outputs": [
    {
     "data": {
      "text/plain": [
       "array(['ensembl'], dtype=object)"
      ]
     },
     "execution_count": 7,
     "metadata": {},
     "output_type": "execute_result"
    }
   ],
   "source": [
    "genes[\"source\"].unique()"
   ]
  },
  {
   "cell_type": "code",
   "execution_count": 8,
   "metadata": {
    "collapsed": false
   },
   "outputs": [
    {
     "data": {
      "text/plain": [
       "array(['ensembl'], dtype=object)"
      ]
     },
     "execution_count": 8,
     "metadata": {},
     "output_type": "execute_result"
    }
   ],
   "source": [
    "transcripts[\"source\"].unique()"
   ]
  },
  {
   "cell_type": "markdown",
   "metadata": {},
   "source": [
    "Data jsou z jednoho zdroje - databáze Ensembl. Po zadání \"ensembl dasypus novemcinctus\" do vyhledávače nalezena stránka http://www.ensembl.org/Dasypus_novemcinctus/Info/Annotation - možnost kontroly výsledků příkazů "
   ]
  },
  {
   "cell_type": "markdown",
   "metadata": {},
   "source": [
    "<img src=\"https://encrypted-tbn0.gstatic.com/images?q=tbn:ANd9GcS7Pdlyjth8o0PV6bRgjBEv5CERiWpea-OqnRPlYSU-Uu9riJY9aA\" alt=\"http://zoom.iprima.cz/clanky/video-nejroztomilejsi-pasovec-sveta\" >"
   ]
  },
  {
   "cell_type": "markdown",
   "metadata": {},
   "source": [
    "### Analýza dat ###\n",
    "\n",
    "**Obsah:**\n",
    "1. Kolik má pásovec identifikovaných sekvencí?\n",
    "2. Kolik má všech genů (včetně pseudogenů a RNA kódujících genů)?\n",
    "3. Jaké má typy genů a s jakou četností?\n",
    "    3. Graf četností genových typů\n",
    "4. Jaké jsou rozdíly v délkách pro jednotlivé typy genů? - základní statistika\n",
    "    4. Boxplot snRNA a miRNA\n",
    "5. Jaká je četnost genů kódujících jeden a více transkriptů?\n",
    "6. Kolik genů se nachází na řetězci +/-?\n",
    "7. Kolik genů nemá název?\n",
    "    7. Příklad nepojmenovaných genů\n",
    "8. Kolik genů má název?\n",
    "    8. Zkouška\n",
    "9. Kolik genů má unikátní název? (v datasetu se objevuje více stejně pojmenovaných genů)\n",
    "    7. Zkouška, jestli metoda nunique splňuje zadání\n",
    "10. Kolik má pásovec transkriptů?\n",
    "11. Jaké má typy transkriptů a s jakou četností?\n",
    "12. Jaké jsou rozdíly v délkách pro jednotlivé typy transkriptů? - základní statistika\n",
    "13. Kolik transkriptů se nachází na řetězci +/-?\n",
    "14. Kolik transkriptů nemá název?\n",
    "    14. Příklad nepojmenovaných transkriptů\n",
    "15. Kolik transkriptů má název?\n",
    "    15. Zkouška\n",
    "16. Kolik transkriptů má unikátní název?"
   ]
  },
  {
   "cell_type": "markdown",
   "metadata": {},
   "source": [
    "** 1. Kolik má pásovec identifikovaných sekvencí? **"
   ]
  },
  {
   "cell_type": "code",
   "execution_count": 9,
   "metadata": {
    "collapsed": false
   },
   "outputs": [
    {
     "data": {
      "text/plain": [
       "4823"
      ]
     },
     "execution_count": 9,
     "metadata": {},
     "output_type": "execute_result"
    }
   ],
   "source": [
    "len(genes[\"seqname\"].unique())"
   ]
  },
  {
   "cell_type": "markdown",
   "metadata": {},
   "source": [
    "** 2. Kolik má všech genů (včetně pseudogenů a RNA kódujících genů)? **"
   ]
  },
  {
   "cell_type": "code",
   "execution_count": 10,
   "metadata": {
    "collapsed": false
   },
   "outputs": [
    {
     "data": {
      "text/plain": [
       "33374"
      ]
     },
     "execution_count": 10,
     "metadata": {},
     "output_type": "execute_result"
    }
   ],
   "source": [
    "len(genes)"
   ]
  },
  {
   "cell_type": "markdown",
   "metadata": {},
   "source": [
    "** 3. Jaké má typy genů a s jakou četností? **"
   ]
  },
  {
   "cell_type": "code",
   "execution_count": 11,
   "metadata": {
    "collapsed": false
   },
   "outputs": [
    {
     "data": {
      "text/plain": [
       "protein_coding          22711\n",
       "lincRNA                  3179\n",
       "snRNA                    2851\n",
       "snoRNA                   1625\n",
       "pseudogene               1364\n",
       "miRNA                     841\n",
       "misc_RNA                  474\n",
       "rRNA                      169\n",
       "processed_pseudogene      136\n",
       "Mt_tRNA                    22\n",
       "Mt_rRNA                     2\n",
       "Name: gene_biotype, dtype: int64"
      ]
     },
     "execution_count": 11,
     "metadata": {},
     "output_type": "execute_result"
    }
   ],
   "source": [
    "type_genes = genes[\"gene_biotype\"].value_counts()\n",
    "type_genes"
   ]
  },
  {
   "cell_type": "markdown",
   "metadata": {},
   "source": [
    "Výstup ukazuje v levém sloupci kategorie - typy genů (protein-kódujících, kódujících lincRNA,...). V pravém sloupci kolik genů se přiřazuje zmíněné kategorii."
   ]
  },
  {
   "cell_type": "markdown",
   "metadata": {},
   "source": [
    "** A. Graf četností genových typů **"
   ]
  },
  {
   "cell_type": "code",
   "execution_count": 12,
   "metadata": {
    "collapsed": false
   },
   "outputs": [
    {
     "data": {
      "image/png": "[encoded data removed]",
      "text/plain": [
       "<matplotlib.figure.Figure at 0x7f1a5d771be0>"
      ]
     },
     "metadata": {},
     "output_type": "display_data"
    }
   ],
   "source": [
    "y_pos = np.arange(11)\n",
    "plt.bar(y_pos, type_genes,align='center', alpha=0.7) \n",
    "plt.xticks(y_pos, [\"protein kódující\",\"lincRNA\",\"snRNA\",\"snoRNA\",\"pseudogeny\",\"miRNA\",\"misc RNA\",\"rRNS\", \"retropseudogeny\",\"Mt_tRNA\",\"Mt_rRNA\"])\n",
    "plt.ylabel('četnost')\n",
    "plt.xlabel(\"genové typy\")\n",
    "plt.title('Četnost jednotlivých genových kategorií')\n",
    "for ax in plt.gcf().axes:\n",
    "    plt.sca(ax)\n",
    "    plt.xticks(ax.get_xticks(), rotation=90)\n",
    "plt.show()"
   ]
  },
  {
   "cell_type": "markdown",
   "metadata": {},
   "source": [
    "** 4. Jaké jsou rozdíly v délkách pro jednotlivé typy genů? - základní statistika**"
   ]
  },
  {
   "cell_type": "code",
   "execution_count": 13,
   "metadata": {
    "collapsed": false
   },
   "outputs": [
    {
     "name": "stdout",
     "output_type": "stream",
     "text": [
      "gene_biotype               \n",
      "Mt_rRNA               count    2.000000e+00\n",
      "                      mean     1.271000e+03\n",
      "                      std      4.327494e+02\n",
      "                      min      9.650000e+02\n",
      "                      25%      1.118000e+03\n",
      "                      50%      1.271000e+03\n",
      "                      75%      1.424000e+03\n",
      "                      max      1.577000e+03\n",
      "Mt_tRNA               count    2.200000e+01\n",
      "                      mean     6.786364e+01\n",
      "                      std      3.342304e+00\n",
      "                      min      5.900000e+01\n",
      "                      25%      6.725000e+01\n",
      "                      50%      6.800000e+01\n",
      "                      75%      6.900000e+01\n",
      "                      max      7.400000e+01\n",
      "lincRNA               count    3.179000e+03\n",
      "                      mean     1.744020e+04\n",
      "                      std      3.245018e+04\n",
      "                      min      2.480000e+02\n",
      "                      25%      1.876500e+03\n",
      "                      50%      4.595000e+03\n",
      "                      75%      1.649150e+04\n",
      "                      max      3.500620e+05\n",
      "miRNA                 count    8.410000e+02\n",
      "                      mean     9.362782e+01\n",
      "                      std      2.345879e+01\n",
      "                      min      4.600000e+01\n",
      "                      25%      7.900000e+01\n",
      "                      50%      9.200000e+01\n",
      "                      75%      1.080000e+02\n",
      "                      max      2.170000e+02\n",
      "misc_RNA              count    4.740000e+02\n",
      "                      mean     2.101224e+02\n",
      "                      std      9.199208e+01\n",
      "                      min      5.200000e+01\n",
      "                      25%      1.272500e+02\n",
      "                      50%      2.010000e+02\n",
      "                      75%      2.970000e+02\n",
      "                      max      4.530000e+02\n",
      "processed_pseudogene  count    1.360000e+02\n",
      "                      mean     7.234338e+02\n",
      "                      std      4.077852e+02\n",
      "                      min      1.430000e+02\n",
      "                      25%      3.800000e+02\n",
      "                      50%      7.070000e+02\n",
      "                      75%      9.597500e+02\n",
      "                      max      2.813000e+03\n",
      "protein_coding        count    2.271100e+04\n",
      "                      mean     3.689346e+04\n",
      "                      std      6.812408e+04\n",
      "                      min      6.200000e+01\n",
      "                      25%      1.723500e+03\n",
      "                      50%      1.133900e+04\n",
      "                      75%      4.092950e+04\n",
      "                      max      1.367073e+06\n",
      "pseudogene            count    1.364000e+03\n",
      "                      mean     8.382067e+02\n",
      "                      std      5.726504e+02\n",
      "                      min      1.090000e+02\n",
      "                      25%      4.627500e+02\n",
      "                      50%      6.835000e+02\n",
      "                      75%      9.712500e+02\n",
      "                      max      4.818000e+03\n",
      "rRNA                  count    1.690000e+02\n",
      "                      mean     1.149172e+02\n",
      "                      std      1.840336e+01\n",
      "                      min      2.500000e+01\n",
      "                      25%      1.100000e+02\n",
      "                      50%      1.180000e+02\n",
      "                      75%      1.220000e+02\n",
      "                      max      1.520000e+02\n",
      "snRNA                 count    2.851000e+03\n",
      "                      mean     1.181792e+02\n",
      "                      std      2.606331e+01\n",
      "                      min      5.100000e+01\n",
      "                      25%      1.050000e+02\n",
      "                      50%      1.060000e+02\n",
      "                      75%      1.260000e+02\n",
      "                      max      1.960000e+02\n",
      "snoRNA                count    1.625000e+03\n",
      "                      mean     1.252037e+02\n",
      "                      std      3.373821e+01\n",
      "                      min      3.400000e+01\n",
      "                      25%      1.110000e+02\n",
      "                      50%      1.290000e+02\n",
      "                      75%      1.330000e+02\n",
      "                      max      4.200000e+02\n"
     ]
    }
   ],
   "source": [
    "genes[\"length\"]=genes[\"end\"]-genes[\"start\"]\n",
    "print(genes.groupby([\"gene_biotype\"])[\"length\"].describe().to_string())"
   ]
  },
  {
   "cell_type": "markdown",
   "metadata": {},
   "source": [
    "count = počet\n",
    "\n",
    "mean = průměr\n",
    "\n",
    "std = směrodatná odchylka\n",
    "\n",
    "min = minimum\n",
    "\n",
    "25% - 50% - 75% = jednotlivé kvartily\n",
    "\n",
    "max = maximum"
   ]
  },
  {
   "cell_type": "markdown",
   "metadata": {},
   "source": [
    "** A. Boxplot snRNA a miRNA **"
   ]
  },
  {
   "cell_type": "code",
   "execution_count": 14,
   "metadata": {
    "collapsed": true
   },
   "outputs": [],
   "source": [
    "len_snRNA=genes[genes[\"gene_biotype\"]==\"snRNA\"].length\n",
    "len_miRNA=genes[genes[\"gene_biotype\"]==\"miRNA\"].length\n",
    "x1=len_snRNA.tolist()\n",
    "x2=len_miRNA.tolist()\n",
    "x=[x1,x2]"
   ]
  },
  {
   "cell_type": "code",
   "execution_count": 15,
   "metadata": {
    "collapsed": false
   },
   "outputs": [
    {
     "data": {
      "image/png": "[encoded data removed]",
      "text/plain": [
       "<matplotlib.figure.Figure at 0x7f1a5e92a0b8>"
      ]
     },
     "metadata": {},
     "output_type": "display_data"
    }
   ],
   "source": [
    "plot1=plt.boxplot(x, vert=True, patch_artist=True)\n",
    "plt.setp(plot1['boxes'],color='Plum',linewidth=2,facecolor='SkyBlue')\n",
    "plt.setp(plot1['whiskers'], color='DarkMagenta', linewidth=1.5) \n",
    "plt.setp(plot1['caps'], color='DarkMagenta', linewidth=1.5)  \n",
    "plt.setp(plot1['fliers'], marker='o', markersize=3)\n",
    "plt.setp(plot1['medians'], linewidth=1.5) \n",
    "plt.grid(axis='y', linestyle='--', which='major', color='lightgrey', alpha=0.7)\n",
    "plt.xticks([1, 2], [\"snRNA\", \"miRNA\"])\n",
    "plt.ylabel('délka') \n",
    "plt.title('Porovnání délky genových sekvencí pro snRNA a miRNA')\n",
    "plt.show()"
   ]
  },
  {
   "cell_type": "markdown",
   "metadata": {},
   "source": [
    "** 5. Jaká je četnost genů kódujících jeden a více transkriptů? **"
   ]
  },
  {
   "cell_type": "code",
   "execution_count": 16,
   "metadata": {
    "collapsed": false
   },
   "outputs": [
    {
     "data": {
      "text/plain": [
       "1     30094\n",
       "2      2475\n",
       "3       628\n",
       "4       123\n",
       "5        35\n",
       "6        12\n",
       "7         4\n",
       "10        2\n",
       "8         1\n",
       "Name: gene_id, dtype: int64"
      ]
     },
     "execution_count": 16,
     "metadata": {},
     "output_type": "execute_result"
    }
   ],
   "source": [
    "hist_genes = transcripts[\"gene_id\"].value_counts().value_counts()\n",
    "hist_genes"
   ]
  },
  {
   "cell_type": "markdown",
   "metadata": {},
   "source": [
    "Výstup ukazuje v levém sloupci počet transkriptů na gen, v pravém sloupci četnost genů. Př.: jeden gen kóduje osm transkriptů (viz poslední řádek výstupu)."
   ]
  },
  {
   "cell_type": "markdown",
   "metadata": {},
   "source": [
    "** 6. Kolik genů se nachází na řetězci +/-? **"
   ]
  },
  {
   "cell_type": "code",
   "execution_count": 17,
   "metadata": {
    "collapsed": false
   },
   "outputs": [
    {
     "data": {
      "text/plain": [
       "+    16805\n",
       "-    16569\n",
       "Name: strand, dtype: int64"
      ]
     },
     "execution_count": 17,
     "metadata": {},
     "output_type": "execute_result"
    }
   ],
   "source": [
    "strand_genes = genes[\"strand\"].value_counts()\n",
    "strand_genes"
   ]
  },
  {
   "cell_type": "markdown",
   "metadata": {},
   "source": [
    "** 7. Kolik genů nemá název? **"
   ]
  },
  {
   "cell_type": "code",
   "execution_count": 18,
   "metadata": {
    "collapsed": false
   },
   "outputs": [
    {
     "data": {
      "text/plain": [
       "19552"
      ]
     },
     "execution_count": 18,
     "metadata": {},
     "output_type": "execute_result"
    }
   ],
   "source": [
    "unnamed_genes = genes[\"gene_name\"].isnull().values.sum()\n",
    "unnamed_genes"
   ]
  },
  {
   "cell_type": "markdown",
   "metadata": {},
   "source": [
    "** A. Příklad nepojmenovaných genů **"
   ]
  },
  {
   "cell_type": "code",
   "execution_count": 11,
   "metadata": {
    "collapsed": false
   },
   "outputs": [
    {
     "data": {
      "text/html": [
       "<div>\n",
       "<table border=\"1\" class=\"dataframe\">\n",
       "  <thead>\n",
       "    <tr style=\"text-align: right;\">\n",
       "      <th></th>\n",
       "      <th>seqname</th>\n",
       "      <th>source</th>\n",
       "      <th>feature</th>\n",
       "      <th>start</th>\n",
       "      <th>end</th>\n",
       "      <th>score</th>\n",
       "      <th>strand</th>\n",
       "      <th>frame</th>\n",
       "      <th>gene_biotype</th>\n",
       "      <th>gene_id</th>\n",
       "      <th>gene_name</th>\n",
       "    </tr>\n",
       "  </thead>\n",
       "  <tbody>\n",
       "    <tr>\n",
       "      <th>1</th>\n",
       "      <td>JH573670.1</td>\n",
       "      <td>ensembl</td>\n",
       "      <td>gene</td>\n",
       "      <td>163668</td>\n",
       "      <td>163774</td>\n",
       "      <td>.</td>\n",
       "      <td>-</td>\n",
       "      <td>.</td>\n",
       "      <td>snRNA</td>\n",
       "      <td>ENSDNOG00000043683</td>\n",
       "      <td>NaN</td>\n",
       "    </tr>\n",
       "  </tbody>\n",
       "</table>\n",
       "</div>"
      ],
      "text/plain": [
       "      seqname   source feature   start     end score strand frame  \\\n",
       "1  JH573670.1  ensembl    gene  163668  163774     .      -     .   \n",
       "\n",
       "  gene_biotype             gene_id gene_name  \n",
       "1        snRNA  ENSDNOG00000043683       NaN  "
      ]
     },
     "execution_count": 11,
     "metadata": {},
     "output_type": "execute_result"
    }
   ],
   "source": [
    "genes[1:2]"
   ]
  },
  {
   "cell_type": "code",
   "execution_count": 12,
   "metadata": {
    "collapsed": false
   },
   "outputs": [
    {
     "data": {
      "text/html": [
       "<div>\n",
       "<table border=\"1\" class=\"dataframe\">\n",
       "  <thead>\n",
       "    <tr style=\"text-align: right;\">\n",
       "      <th></th>\n",
       "      <th>seqname</th>\n",
       "      <th>source</th>\n",
       "      <th>feature</th>\n",
       "      <th>start</th>\n",
       "      <th>end</th>\n",
       "      <th>score</th>\n",
       "      <th>strand</th>\n",
       "      <th>frame</th>\n",
       "      <th>gene_biotype</th>\n",
       "      <th>gene_id</th>\n",
       "      <th>gene_name</th>\n",
       "    </tr>\n",
       "  </thead>\n",
       "  <tbody>\n",
       "    <tr>\n",
       "      <th>4</th>\n",
       "      <td>JH573670.1</td>\n",
       "      <td>ensembl</td>\n",
       "      <td>gene</td>\n",
       "      <td>1038320</td>\n",
       "      <td>1038457</td>\n",
       "      <td>.</td>\n",
       "      <td>-</td>\n",
       "      <td>.</td>\n",
       "      <td>snRNA</td>\n",
       "      <td>ENSDNOG00000027861</td>\n",
       "      <td>NaN</td>\n",
       "    </tr>\n",
       "  </tbody>\n",
       "</table>\n",
       "</div>"
      ],
      "text/plain": [
       "      seqname   source feature    start      end score strand frame  \\\n",
       "4  JH573670.1  ensembl    gene  1038320  1038457     .      -     .   \n",
       "\n",
       "  gene_biotype             gene_id gene_name  \n",
       "4        snRNA  ENSDNOG00000027861       NaN  "
      ]
     },
     "execution_count": 12,
     "metadata": {},
     "output_type": "execute_result"
    }
   ],
   "source": [
    "genes[4:5]"
   ]
  },
  {
   "cell_type": "markdown",
   "metadata": {},
   "source": [
    "** 8. Kolik genů má název? **"
   ]
  },
  {
   "cell_type": "code",
   "execution_count": 19,
   "metadata": {
    "collapsed": false
   },
   "outputs": [
    {
     "data": {
      "text/plain": [
       "13822"
      ]
     },
     "execution_count": 19,
     "metadata": {},
     "output_type": "execute_result"
    }
   ],
   "source": [
    "named_genes = genes[\"gene_name\"].notnull().values.sum()\n",
    "named_genes"
   ]
  },
  {
   "cell_type": "markdown",
   "metadata": {},
   "source": [
    "** A. Zkouška **"
   ]
  },
  {
   "cell_type": "code",
   "execution_count": 20,
   "metadata": {
    "collapsed": false
   },
   "outputs": [
    {
     "data": {
      "text/plain": [
       "True"
      ]
     },
     "execution_count": 20,
     "metadata": {},
     "output_type": "execute_result"
    }
   ],
   "source": [
    "unnamed_genes+named_genes==len(genes)"
   ]
  },
  {
   "cell_type": "markdown",
   "metadata": {},
   "source": [
    "** 9. Kolik genů má unikátní název? (v datasetu se objevuje více stejně pojmenovaných genů) **"
   ]
  },
  {
   "cell_type": "code",
   "execution_count": 21,
   "metadata": {
    "collapsed": false
   },
   "outputs": [
    {
     "data": {
      "text/plain": [
       "13663"
      ]
     },
     "execution_count": 21,
     "metadata": {},
     "output_type": "execute_result"
    }
   ],
   "source": [
    "named_genes_unique = genes[\"gene_name\"].nunique()\n",
    "named_genes_unique"
   ]
  },
  {
   "cell_type": "markdown",
   "metadata": {},
   "source": [
    "Ukázka dvou náhodně vybraných genů se stejným gene_name a jinými gene_id a pozicí."
   ]
  },
  {
   "cell_type": "code",
   "execution_count": 9,
   "metadata": {
    "collapsed": false
   },
   "outputs": [
    {
     "data": {
      "text/html": [
       "<div>\n",
       "<table border=\"1\" class=\"dataframe\">\n",
       "  <thead>\n",
       "    <tr style=\"text-align: right;\">\n",
       "      <th></th>\n",
       "      <th>seqname</th>\n",
       "      <th>source</th>\n",
       "      <th>feature</th>\n",
       "      <th>start</th>\n",
       "      <th>end</th>\n",
       "      <th>score</th>\n",
       "      <th>strand</th>\n",
       "      <th>frame</th>\n",
       "      <th>gene_biotype</th>\n",
       "      <th>gene_id</th>\n",
       "      <th>gene_name</th>\n",
       "    </tr>\n",
       "  </thead>\n",
       "  <tbody>\n",
       "    <tr>\n",
       "      <th>33185</th>\n",
       "      <td>AAGV03068567.1</td>\n",
       "      <td>ensembl</td>\n",
       "      <td>gene</td>\n",
       "      <td>425</td>\n",
       "      <td>543</td>\n",
       "      <td>.</td>\n",
       "      <td>+</td>\n",
       "      <td>.</td>\n",
       "      <td>rRNA</td>\n",
       "      <td>ENSDNOG00000042249</td>\n",
       "      <td>5S_rRNA</td>\n",
       "    </tr>\n",
       "  </tbody>\n",
       "</table>\n",
       "</div>"
      ],
      "text/plain": [
       "              seqname   source feature  start  end score strand frame  \\\n",
       "33185  AAGV03068567.1  ensembl    gene    425  543     .      +     .   \n",
       "\n",
       "      gene_biotype             gene_id gene_name  \n",
       "33185         rRNA  ENSDNOG00000042249   5S_rRNA  "
      ]
     },
     "execution_count": 9,
     "metadata": {},
     "output_type": "execute_result"
    }
   ],
   "source": [
    "genes[33185:33186:]"
   ]
  },
  {
   "cell_type": "code",
   "execution_count": 10,
   "metadata": {
    "collapsed": false
   },
   "outputs": [
    {
     "data": {
      "text/html": [
       "<div>\n",
       "<table border=\"1\" class=\"dataframe\">\n",
       "  <thead>\n",
       "    <tr style=\"text-align: right;\">\n",
       "      <th></th>\n",
       "      <th>seqname</th>\n",
       "      <th>source</th>\n",
       "      <th>feature</th>\n",
       "      <th>start</th>\n",
       "      <th>end</th>\n",
       "      <th>score</th>\n",
       "      <th>strand</th>\n",
       "      <th>frame</th>\n",
       "      <th>gene_biotype</th>\n",
       "      <th>gene_id</th>\n",
       "      <th>gene_name</th>\n",
       "    </tr>\n",
       "  </thead>\n",
       "  <tbody>\n",
       "    <tr>\n",
       "      <th>33238</th>\n",
       "      <td>AAGV03298070.1</td>\n",
       "      <td>ensembl</td>\n",
       "      <td>gene</td>\n",
       "      <td>1044</td>\n",
       "      <td>1162</td>\n",
       "      <td>.</td>\n",
       "      <td>+</td>\n",
       "      <td>.</td>\n",
       "      <td>rRNA</td>\n",
       "      <td>ENSDNOG00000035611</td>\n",
       "      <td>5S_rRNA</td>\n",
       "    </tr>\n",
       "  </tbody>\n",
       "</table>\n",
       "</div>"
      ],
      "text/plain": [
       "              seqname   source feature  start   end score strand frame  \\\n",
       "33238  AAGV03298070.1  ensembl    gene   1044  1162     .      +     .   \n",
       "\n",
       "      gene_biotype             gene_id gene_name  \n",
       "33238         rRNA  ENSDNOG00000035611   5S_rRNA  "
      ]
     },
     "execution_count": 10,
     "metadata": {},
     "output_type": "execute_result"
    }
   ],
   "source": [
    "genes[33238:33239:]"
   ]
  },
  {
   "cell_type": "markdown",
   "metadata": {},
   "source": [
    "** A. Zkouška, jestli metoda nunique splňuje zadání **"
   ]
  },
  {
   "cell_type": "code",
   "execution_count": 24,
   "metadata": {
    "collapsed": false
   },
   "outputs": [
    {
     "data": {
      "text/plain": [
       "13663"
      ]
     },
     "execution_count": 24,
     "metadata": {},
     "output_type": "execute_result"
    }
   ],
   "source": [
    "named_genes_check=len(genes[\"gene_name\"][genes[\"gene_name\"].notnull()].unique())\n",
    "named_genes_check"
   ]
  },
  {
   "cell_type": "markdown",
   "metadata": {},
   "source": [
    "<img src=\"http://www.tierbildergalerie.com/data/media/35/gurtel_tier.jpg\" width=30% alt=\"http://www.tierbildergalerie.com/bild-gurtel-tier-3490.htm\" >"
   ]
  },
  {
   "cell_type": "markdown",
   "metadata": {},
   "source": [
    "** 10. Kolik má pásovec transkriptů? **"
   ]
  },
  {
   "cell_type": "code",
   "execution_count": 25,
   "metadata": {
    "collapsed": false
   },
   "outputs": [
    {
     "data": {
      "text/plain": [
       "37723"
      ]
     },
     "execution_count": 25,
     "metadata": {},
     "output_type": "execute_result"
    }
   ],
   "source": [
    "len(transcripts)"
   ]
  },
  {
   "cell_type": "markdown",
   "metadata": {},
   "source": [
    "** 11. Jaké má typy transcriptů a s jakou četností?**"
   ]
  },
  {
   "cell_type": "code",
   "execution_count": 26,
   "metadata": {
    "collapsed": false
   },
   "outputs": [
    {
     "data": {
      "text/plain": [
       "protein_coding          26551\n",
       "lincRNA                  3688\n",
       "snRNA                    2851\n",
       "snoRNA                   1625\n",
       "pseudogene               1364\n",
       "miRNA                     841\n",
       "misc_RNA                  474\n",
       "rRNA                      169\n",
       "processed_pseudogene      136\n",
       "Mt_tRNA                    22\n",
       "Mt_rRNA                     2\n",
       "Name: transcript_biotype, dtype: int64"
      ]
     },
     "execution_count": 26,
     "metadata": {},
     "output_type": "execute_result"
    }
   ],
   "source": [
    "type_transcripts = transcripts[\"transcript_biotype\"].value_counts()\n",
    "type_transcripts"
   ]
  },
  {
   "cell_type": "markdown",
   "metadata": {},
   "source": [
    "Výstup ukazuje v levém sloupci kategorie - typy genů kódující transkript. V pravém sloupci kolik transkriptů se přiřazuje zmíněné kategorii."
   ]
  },
  {
   "cell_type": "markdown",
   "metadata": {},
   "source": [
    "** 12. Jaké jsou rozdíly v délkách pro jednotlivé typy transkriptů? - základní statistika**"
   ]
  },
  {
   "cell_type": "code",
   "execution_count": 27,
   "metadata": {
    "collapsed": false
   },
   "outputs": [
    {
     "name": "stdout",
     "output_type": "stream",
     "text": [
      "transcript_biotype         \n",
      "Mt_rRNA               count    2.000000e+00\n",
      "                      mean     1.271000e+03\n",
      "                      std      4.327494e+02\n",
      "                      min      9.650000e+02\n",
      "                      25%      1.118000e+03\n",
      "                      50%      1.271000e+03\n",
      "                      75%      1.424000e+03\n",
      "                      max      1.577000e+03\n",
      "Mt_tRNA               count    2.200000e+01\n",
      "                      mean     6.786364e+01\n",
      "                      std      3.342304e+00\n",
      "                      min      5.900000e+01\n",
      "                      25%      6.725000e+01\n",
      "                      50%      6.800000e+01\n",
      "                      75%      6.900000e+01\n",
      "                      max      7.400000e+01\n",
      "lincRNA               count    3.688000e+03\n",
      "                      mean     1.726177e+04\n",
      "                      std      3.092504e+04\n",
      "                      min      2.480000e+02\n",
      "                      25%      1.938250e+03\n",
      "                      50%      4.876500e+03\n",
      "                      75%      1.715150e+04\n",
      "                      max      2.393330e+05\n",
      "miRNA                 count    8.410000e+02\n",
      "                      mean     9.362782e+01\n",
      "                      std      2.345879e+01\n",
      "                      min      4.600000e+01\n",
      "                      25%      7.900000e+01\n",
      "                      50%      9.200000e+01\n",
      "                      75%      1.080000e+02\n",
      "                      max      2.170000e+02\n",
      "misc_RNA              count    4.740000e+02\n",
      "                      mean     2.101224e+02\n",
      "                      std      9.199208e+01\n",
      "                      min      5.200000e+01\n",
      "                      25%      1.272500e+02\n",
      "                      50%      2.010000e+02\n",
      "                      75%      2.970000e+02\n",
      "                      max      4.530000e+02\n",
      "processed_pseudogene  count    1.360000e+02\n",
      "                      mean     7.234338e+02\n",
      "                      std      4.077852e+02\n",
      "                      min      1.430000e+02\n",
      "                      25%      3.800000e+02\n",
      "                      50%      7.070000e+02\n",
      "                      75%      9.597500e+02\n",
      "                      max      2.813000e+03\n",
      "protein_coding        count    2.655100e+04\n",
      "                      mean     3.926734e+04\n",
      "                      std      6.905983e+04\n",
      "                      min      6.200000e+01\n",
      "                      25%      2.218500e+03\n",
      "                      50%      1.315300e+04\n",
      "                      75%      4.542450e+04\n",
      "                      max      1.257368e+06\n",
      "pseudogene            count    1.364000e+03\n",
      "                      mean     8.382067e+02\n",
      "                      std      5.726504e+02\n",
      "                      min      1.090000e+02\n",
      "                      25%      4.627500e+02\n",
      "                      50%      6.835000e+02\n",
      "                      75%      9.712500e+02\n",
      "                      max      4.818000e+03\n",
      "rRNA                  count    1.690000e+02\n",
      "                      mean     1.149172e+02\n",
      "                      std      1.840336e+01\n",
      "                      min      2.500000e+01\n",
      "                      25%      1.100000e+02\n",
      "                      50%      1.180000e+02\n",
      "                      75%      1.220000e+02\n",
      "                      max      1.520000e+02\n",
      "snRNA                 count    2.851000e+03\n",
      "                      mean     1.181792e+02\n",
      "                      std      2.606331e+01\n",
      "                      min      5.100000e+01\n",
      "                      25%      1.050000e+02\n",
      "                      50%      1.060000e+02\n",
      "                      75%      1.260000e+02\n",
      "                      max      1.960000e+02\n",
      "snoRNA                count    1.625000e+03\n",
      "                      mean     1.252037e+02\n",
      "                      std      3.373821e+01\n",
      "                      min      3.400000e+01\n",
      "                      25%      1.110000e+02\n",
      "                      50%      1.290000e+02\n",
      "                      75%      1.330000e+02\n",
      "                      max      4.200000e+02\n"
     ]
    }
   ],
   "source": [
    "transcripts[\"length\"]=transcripts[\"end\"]-transcripts[\"start\"]\n",
    "print(transcripts.groupby([\"transcript_biotype\"])[\"length\"].describe().to_string())"
   ]
  },
  {
   "cell_type": "markdown",
   "metadata": {},
   "source": [
    "count = počet\n",
    "\n",
    "mean = průměr\n",
    "\n",
    "std = směrodatná odchylka\n",
    "\n",
    "min = minimum\n",
    "\n",
    "25% - 50% - 75% = jednotlivé kvartily\n",
    "\n",
    "max = maximum"
   ]
  },
  {
   "cell_type": "markdown",
   "metadata": {},
   "source": [
    "** 13. Kolik transkriptů se nachází na řetězci +/-? **"
   ]
  },
  {
   "cell_type": "code",
   "execution_count": 13,
   "metadata": {
    "collapsed": false
   },
   "outputs": [
    {
     "data": {
      "text/plain": [
       "+    19067\n",
       "-    18656\n",
       "Name: strand, dtype: int64"
      ]
     },
     "execution_count": 13,
     "metadata": {},
     "output_type": "execute_result"
    }
   ],
   "source": [
    "strand_transcripts = transcripts[\"strand\"].value_counts()\n",
    "strand_transcripts"
   ]
  },
  {
   "cell_type": "markdown",
   "metadata": {},
   "source": [
    "** 14. Kolik transkriptů nemá název? **"
   ]
  },
  {
   "cell_type": "code",
   "execution_count": 14,
   "metadata": {
    "collapsed": false
   },
   "outputs": [
    {
     "data": {
      "text/plain": [
       "21193"
      ]
     },
     "execution_count": 14,
     "metadata": {},
     "output_type": "execute_result"
    }
   ],
   "source": [
    "unnamed_transcripts = transcripts[\"transcript_name\"].isnull().values.sum()\n",
    "unnamed_transcripts"
   ]
  },
  {
   "cell_type": "markdown",
   "metadata": {},
   "source": [
    "** A. Příklad nepojmenovaných transkriptů **"
   ]
  },
  {
   "cell_type": "code",
   "execution_count": 15,
   "metadata": {
    "collapsed": false
   },
   "outputs": [
    {
     "data": {
      "text/html": [
       "<div>\n",
       "<table border=\"1\" class=\"dataframe\">\n",
       "  <thead>\n",
       "    <tr style=\"text-align: right;\">\n",
       "      <th></th>\n",
       "      <th>seqname</th>\n",
       "      <th>source</th>\n",
       "      <th>feature</th>\n",
       "      <th>start</th>\n",
       "      <th>end</th>\n",
       "      <th>score</th>\n",
       "      <th>strand</th>\n",
       "      <th>frame</th>\n",
       "      <th>gene_biotype</th>\n",
       "      <th>gene_id</th>\n",
       "      <th>gene_name</th>\n",
       "      <th>transcript_biotype</th>\n",
       "      <th>transcript_id</th>\n",
       "      <th>transcript_name</th>\n",
       "    </tr>\n",
       "  </thead>\n",
       "  <tbody>\n",
       "    <tr>\n",
       "      <th>1</th>\n",
       "      <td>JH573670.1</td>\n",
       "      <td>ensembl</td>\n",
       "      <td>transcript</td>\n",
       "      <td>163668</td>\n",
       "      <td>163774</td>\n",
       "      <td>.</td>\n",
       "      <td>-</td>\n",
       "      <td>.</td>\n",
       "      <td>snRNA</td>\n",
       "      <td>ENSDNOG00000043683</td>\n",
       "      <td>NaN</td>\n",
       "      <td>snRNA</td>\n",
       "      <td>ENSDNOT00000034869</td>\n",
       "      <td>NaN</td>\n",
       "    </tr>\n",
       "  </tbody>\n",
       "</table>\n",
       "</div>"
      ],
      "text/plain": [
       "      seqname   source     feature   start     end score strand frame  \\\n",
       "1  JH573670.1  ensembl  transcript  163668  163774     .      -     .   \n",
       "\n",
       "  gene_biotype             gene_id gene_name transcript_biotype  \\\n",
       "1        snRNA  ENSDNOG00000043683       NaN              snRNA   \n",
       "\n",
       "        transcript_id transcript_name  \n",
       "1  ENSDNOT00000034869             NaN  "
      ]
     },
     "execution_count": 15,
     "metadata": {},
     "output_type": "execute_result"
    }
   ],
   "source": [
    "transcripts[1:2]"
   ]
  },
  {
   "cell_type": "code",
   "execution_count": 16,
   "metadata": {
    "collapsed": false
   },
   "outputs": [
    {
     "data": {
      "text/html": [
       "<div>\n",
       "<table border=\"1\" class=\"dataframe\">\n",
       "  <thead>\n",
       "    <tr style=\"text-align: right;\">\n",
       "      <th></th>\n",
       "      <th>seqname</th>\n",
       "      <th>source</th>\n",
       "      <th>feature</th>\n",
       "      <th>start</th>\n",
       "      <th>end</th>\n",
       "      <th>score</th>\n",
       "      <th>strand</th>\n",
       "      <th>frame</th>\n",
       "      <th>gene_biotype</th>\n",
       "      <th>gene_id</th>\n",
       "      <th>gene_name</th>\n",
       "      <th>transcript_biotype</th>\n",
       "      <th>transcript_id</th>\n",
       "      <th>transcript_name</th>\n",
       "    </tr>\n",
       "  </thead>\n",
       "  <tbody>\n",
       "    <tr>\n",
       "      <th>4</th>\n",
       "      <td>JH573670.1</td>\n",
       "      <td>ensembl</td>\n",
       "      <td>transcript</td>\n",
       "      <td>1038320</td>\n",
       "      <td>1038457</td>\n",
       "      <td>.</td>\n",
       "      <td>-</td>\n",
       "      <td>.</td>\n",
       "      <td>snRNA</td>\n",
       "      <td>ENSDNOG00000027861</td>\n",
       "      <td>NaN</td>\n",
       "      <td>snRNA</td>\n",
       "      <td>ENSDNOT00000026322</td>\n",
       "      <td>NaN</td>\n",
       "    </tr>\n",
       "  </tbody>\n",
       "</table>\n",
       "</div>"
      ],
      "text/plain": [
       "      seqname   source     feature    start      end score strand frame  \\\n",
       "4  JH573670.1  ensembl  transcript  1038320  1038457     .      -     .   \n",
       "\n",
       "  gene_biotype             gene_id gene_name transcript_biotype  \\\n",
       "4        snRNA  ENSDNOG00000027861       NaN              snRNA   \n",
       "\n",
       "        transcript_id transcript_name  \n",
       "4  ENSDNOT00000026322             NaN  "
      ]
     },
     "execution_count": 16,
     "metadata": {},
     "output_type": "execute_result"
    }
   ],
   "source": [
    "transcripts[4:5]"
   ]
  },
  {
   "cell_type": "markdown",
   "metadata": {},
   "source": [
    "** 15. Kolik transkriptů má název? **"
   ]
  },
  {
   "cell_type": "code",
   "execution_count": 30,
   "metadata": {
    "collapsed": false
   },
   "outputs": [
    {
     "data": {
      "text/plain": [
       "16530"
      ]
     },
     "execution_count": 30,
     "metadata": {},
     "output_type": "execute_result"
    }
   ],
   "source": [
    "named_transcripts = transcripts[\"transcript_name\"].notnull().values.sum()\n",
    "named_transcripts"
   ]
  },
  {
   "cell_type": "markdown",
   "metadata": {},
   "source": [
    "** A. Zkouška **"
   ]
  },
  {
   "cell_type": "code",
   "execution_count": 31,
   "metadata": {
    "collapsed": false
   },
   "outputs": [
    {
     "data": {
      "text/plain": [
       "True"
      ]
     },
     "execution_count": 31,
     "metadata": {},
     "output_type": "execute_result"
    }
   ],
   "source": [
    "unnamed_transcripts+named_transcripts==len(transcripts)"
   ]
  },
  {
   "cell_type": "markdown",
   "metadata": {},
   "source": [
    "** 16. Kolik transkriptů má unikátní název? **"
   ]
  },
  {
   "cell_type": "code",
   "execution_count": 32,
   "metadata": {
    "collapsed": false
   },
   "outputs": [
    {
     "data": {
      "text/plain": [
       "16371"
      ]
     },
     "execution_count": 32,
     "metadata": {},
     "output_type": "execute_result"
    }
   ],
   "source": [
    "named_transcripts = transcripts[\"transcript_name\"].nunique()\n",
    "named_transcripts"
   ]
  },
  {
   "cell_type": "markdown",
   "metadata": {},
   "source": [
    "##  Děkuji za pozornost! ## "
   ]
  },
  {
   "cell_type": "markdown",
   "metadata": {},
   "source": [
    "<img src=\"https://cdn.i0.cz/public-data/07/55/f147d3773100b32f54a92b2d6546_w900_h691_gi:photo:492937.jpg?hash=7326dbef6608f8a95e454146d7dd2caa\" width=50% alt=\"https://www.zena.cz/rodina/pohadka-na-vikend-jak-jel-pasovec-k-babicce/r~i:article:708775/?redirected=1482874922\" >"
   ]
  }
 ],
 "metadata": {
  "anaconda-cloud": {},
  "kernelspec": {
   "display_name": "Python [conda root]",
   "language": "python",
   "name": "conda-root-py"
  },
  "language_info": {
   "codemirror_mode": {
    "name": "ipython",
    "version": 3
   },
   "file_extension": ".py",
   "mimetype": "text/x-python",
   "name": "python",
   "nbconvert_exporter": "python",
   "pygments_lexer": "ipython3",
   "version": "3.5.2"
  }
 },
 "nbformat": 4,
 "nbformat_minor": 1
}
